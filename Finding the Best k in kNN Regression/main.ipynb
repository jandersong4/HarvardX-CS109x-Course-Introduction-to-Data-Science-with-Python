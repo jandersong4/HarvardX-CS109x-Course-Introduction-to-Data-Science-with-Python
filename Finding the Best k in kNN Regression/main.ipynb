{
 "cells": [
  {
   "cell_type": "markdown",
   "metadata": {},
   "source": [
    "### Instructions:\n",
    "- Read the data into a Pandas dataframe object. \n",
    "- Select the sales column as the response variable and TV budget column as the predictor variable.\n",
    "- Make a train-test split using sklearn.model_selection.train_test_split .\n",
    "- Create a list of integer k values using numpy.linspace .\n",
    "- For each value of k\n",
    "    - Fit a kNN regression on train set.\n",
    "    - Calculate MSE on test set and store it.\n",
    "- Plot the test MSE values for each k.\n",
    "- Find the k value associated with the lowest test MSE."
   ]
  },
  {
   "cell_type": "code",
   "execution_count": null,
   "metadata": {
    "vscode": {
     "languageId": "plaintext"
    }
   },
   "outputs": [],
   "source": [
    "# Import necessary libraries\n",
    "import numpy as np\n",
    "import pandas as pd \n",
    "import matplotlib.pyplot as plt\n",
    "from sklearn.utils import shuffle\n",
    "from sklearn.metrics import r2_score\n",
    "from sklearn.metrics import mean_squared_error\n",
    "from sklearn.neighbors import KNeighborsRegressor\n",
    "from sklearn.model_selection import train_test_split\n",
    "%matplotlib inline\n"
   ]
  },
  {
   "cell_type": "markdown",
   "metadata": {},
   "source": [
    "### Reading the standard Advertising dataset"
   ]
  },
  {
   "cell_type": "code",
   "execution_count": null,
   "metadata": {
    "vscode": {
     "languageId": "plaintext"
    }
   },
   "outputs": [],
   "source": [
    "# Read the file 'Advertising.csv' into a Pandas dataset\n",
    "df = pd.read_csv('Advertising.csv')\n"
   ]
  },
  {
   "cell_type": "code",
   "execution_count": null,
   "metadata": {
    "vscode": {
     "languageId": "plaintext"
    }
   },
   "outputs": [],
   "source": [
    "# Take a quick look at the data\n",
    "df.head()\n"
   ]
  },
  {
   "cell_type": "code",
   "execution_count": null,
   "metadata": {
    "vscode": {
     "languageId": "plaintext"
    }
   },
   "outputs": [],
   "source": [
    "# Set the 'TV' column as predictor variable\n",
    "x = df[['TV']].values\n",
    "\n",
    "# Set the 'Sales' column as response variable \n",
    "y = df['Sales'].values\n"
   ]
  },
  {
   "cell_type": "code",
   "execution_count": null,
   "metadata": {
    "vscode": {
     "languageId": "plaintext"
    }
   },
   "outputs": [],
   "source": [
    "### edTest(test_shape) ###\n",
    "# Split the dataset in training and testing with 60% training set and \n",
    "# 40% testing set \n",
    "x_train, x_test, y_train, y_test = train_test_split(x,y,train_size=0.60,random_state=66)\n"
   ]
  },
  {
   "cell_type": "code",
   "execution_count": null,
   "metadata": {
    "vscode": {
     "languageId": "plaintext"
    }
   },
   "outputs": [],
   "source": [
    "### edTest(test_nums) ###\n",
    "# Choosing k range from 1 to 70\n",
    "k_value_min = 1\n",
    "k_value_max = 70\n",
    "\n",
    "# Create a list of integer k values between k_value_min and \n",
    "# k_value_max using linspace\n",
    "k_list = np.linspace(k_value_min,k_value_max,num=70,dtype=int)"
   ]
  },
  {
   "cell_type": "markdown",
   "metadata": {},
   "source": [
    "### Model fit"
   ]
  },
  {
   "cell_type": "code",
   "execution_count": null,
   "metadata": {
    "vscode": {
     "languageId": "plaintext"
    }
   },
   "outputs": [],
   "source": [
    "# Setup a grid for plotting the data and predictions\n",
    "fig, ax = plt.subplots(figsize=(10,6))\n",
    "\n",
    "# Create a dictionary to store the k value against MSE fit {k: MSE@k} \n",
    "knn_dict = {}\n",
    "\n",
    "# Variable used for altering the linewidth of values kNN models\n",
    "j=0\n",
    "\n",
    "# Loop over all k values\n",
    "for k_value in k_list:   \n",
    "    \n",
    "    # Create a KNN Regression model for the current k\n",
    "    model = KNeighborsRegressor(n_neighbors=int(k_value))\n",
    "    \n",
    "    # Fit the model on the train data\n",
    "    model.fit(x_train,y_train)\n",
    "    \n",
    "    # Use the trained model to predict on the test data\n",
    "    y_pred = model.predict(x_test)\n",
    "    \n",
    "    # Calculate the MSE of the test data predictions\n",
    "    MSE = mean_squared_error(y_test, y_pred)\n",
    "\n",
    "    # Store the MSE values of each k value in the dictionary\n",
    "    knn_dict[k_value] = MSE\n",
    "    \n",
    "    \n",
    "    # Helper code to plot the data and various kNN model predictions\n",
    "    colors = ['grey','r','b']\n",
    "    if k_value in [1,10,70]:\n",
    "        xvals = np.linspace(x.min(),x.max(),100).reshape(-1, 1)\n",
    "        ypreds = model.predict(xvals)\n",
    "        ax.plot(xvals, ypreds,'-',label = f'k = {int(k_value)}',linewidth=j+2,color = colors[j])\n",
    "        j+=1\n",
    "        \n",
    "ax.legend(loc='lower right',fontsize=20)\n",
    "ax.plot(x_train, y_train,'x',label='test',color='k')\n",
    "ax.set_xlabel('TV budget in $1000',fontsize=20)\n",
    "ax.set_ylabel('Sales in $1000',fontsize=20)\n",
    "plt.tight_layout()\n"
   ]
  },
  {
   "cell_type": "markdown",
   "metadata": {},
   "source": [
    "### Graph plot"
   ]
  },
  {
   "cell_type": "code",
   "execution_count": null,
   "metadata": {
    "vscode": {
     "languageId": "plaintext"
    }
   },
   "outputs": [],
   "source": [
    "# Plot a graph which depicts the relation between the k values and MSE\n",
    "plt.figure(figsize=(8,6))\n",
    "mse_values = [knn_dict[k] for k in k_list]\n",
    "plt.plot(k_list, mse_values ,'k.-',alpha=0.5,linewidth=2)\n",
    "\n",
    "# Set the title and axis labels\n",
    "plt.xlabel('k',fontsize=20)\n",
    "plt.ylabel('MSE',fontsize = 20)\n",
    "plt.title('Test $MSE$ values for different k values - KNN regression',fontsize=20)\n",
    "plt.tight_layout()\n"
   ]
  },
  {
   "cell_type": "markdown",
   "metadata": {},
   "source": [
    "### Find the best knn model"
   ]
  },
  {
   "cell_type": "code",
   "execution_count": null,
   "metadata": {
    "vscode": {
     "languageId": "plaintext"
    }
   },
   "outputs": [],
   "source": [
    "### edTest(test_mse) ###\n",
    "\n",
    "# Find the lowest MSE among all the kNN models\n",
    "min_mse = min(mse_values)\n",
    "\n",
    "# Use list comprehensions to find the k value associated with the lowest MSE\n",
    "best_model = [int(key)  for (key, value) in knn_dict.items() if value == min_mse]\n",
    "\n",
    "# Print the best k-value\n",
    "print (\"The best k value is \",best_model,\"with a MSE of \", min_mse)\n"
   ]
  },
  {
   "cell_type": "markdown",
   "metadata": {},
   "source": [
    "### ⏸ From the options below, how would you classify the \"goodness\" of your model?\n",
    "\n",
    "#### A. Good\n",
    "#### B. Satisfactory\n",
    "#### C. Bad"
   ]
  },
  {
   "cell_type": "code",
   "execution_count": null,
   "metadata": {
    "vscode": {
     "languageId": "plaintext"
    }
   },
   "outputs": [],
   "source": [
    "### edTest(test_chow1) ###\n",
    "# Submit an answer choice as a string below (eg. if you choose option A, put 'A')\n",
    "answer1 = 'C'\n"
   ]
  },
  {
   "cell_type": "code",
   "execution_count": null,
   "metadata": {
    "vscode": {
     "languageId": "plaintext"
    }
   },
   "outputs": [],
   "source": [
    "# Helper code to compute the R2_score of your best model\n",
    "model = KNeighborsRegressor(n_neighbors=best_model[0])\n",
    "model.fit(x_train,y_train)\n",
    "y_pred_test = model.predict(x_test)\n",
    "# Print the R2 score of the model\n",
    "print(f\"The R2 score for your model is {r2_score(y_test, y_pred_test)}\")\n"
   ]
  },
  {
   "cell_type": "markdown",
   "metadata": {},
   "source": [
    "### ⏸ After observing the $R^2$ value, how would you now classify your model?\n",
    "\n",
    "#### A. Good\n",
    "#### B. Satisfactory\n",
    "#### C. Bad\n"
   ]
  },
  {
   "cell_type": "code",
   "execution_count": null,
   "metadata": {
    "vscode": {
     "languageId": "plaintext"
    }
   },
   "outputs": [],
   "source": [
    "### edTest(test_chow2) ###\n",
    "# Submit an answer choice as a string below (eg. if you choose option A, put 'A')\n",
    "answer2 = 'C'\n"
   ]
  }
 ],
 "metadata": {
  "language_info": {
   "name": "python"
  }
 },
 "nbformat": 4,
 "nbformat_minor": 2
}
